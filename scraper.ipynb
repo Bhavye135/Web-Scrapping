{
  "nbformat": 4,
  "nbformat_minor": 0,
  "metadata": {
    "colab": {
      "provenance": [],
      "authorship_tag": "ABX9TyMmKOrBPQSGgULHlrITrYem",
      "include_colab_link": true
    },
    "kernelspec": {
      "name": "python3",
      "display_name": "Python 3"
    },
    "language_info": {
      "name": "python"
    }
  },
  "cells": [
    {
      "cell_type": "markdown",
      "metadata": {
        "id": "view-in-github",
        "colab_type": "text"
      },
      "source": [
        "<a href=\"https://colab.research.google.com/github/Bhavye135/Audio-to-Text-Conversion/blob/main/scraper.ipynb\" target=\"_parent\"><img src=\"https://colab.research.google.com/assets/colab-badge.svg\" alt=\"Open In Colab\"/></a>"
      ]
    },
    {
      "cell_type": "code",
      "execution_count": 18,
      "metadata": {
        "id": "2bvY_BbOuBgt"
      },
      "outputs": [],
      "source": [
        "import requests\n",
        "from bs4 import BeautifulSoup\n",
        "import pandas as pd\n"
      ]
    },
    {
      "cell_type": "code",
      "source": [
        "pharmeasy_urls_b = [\n",
        "    \"https://pharmeasy.in/online-medicine-order/lactofol-cap-10-s-191885\",\n",
        "    # ... (add more URLs)\n",
        "]\n",
        "pharmeasy_urls_f = [\n",
        "    \"https://pharmeasy.in/online-medicine-order/lactofol-cap-10-s-191885\",\n",
        "    # ... (add more URLs)\n",
        "]\n",
        "\n",
        "netmeds_urls_b = [\n",
        "    \"https://www.netmeds.com/prescriptions/mednocal-tablet-10s\",\n",
        "    # ... (add more URLs)\n",
        "]\n",
        "netmeds_urls_f = [\n",
        "    \"https://www.netmeds.com/prescriptions/mednocal-tablet-10s\",\n",
        "    # ... (add more URLs)\n",
        "]\n"
      ],
      "metadata": {
        "id": "m0iRHXGCwPIA"
      },
      "execution_count": 27,
      "outputs": []
    },
    {
      "cell_type": "code",
      "source": [
        "def scrape_pharmeasy_data(url):\n",
        "    # ... (implementation details as provided earlier)\n",
        "    data = []\n",
        "\n",
        "# Scrape Pharmeasy data\n",
        "    response = requests.get(\"https://pharmeasy.in/online-medicine-order/lactofol-cap-10-s-191885\")\n",
        "    response.raise_for_status()  # Raise an exception for non-200 status codes\n",
        "\n",
        "    soup = BeautifulSoup(response.content, 'html.parser')\n",
        "\n",
        "    # Find relevant elements (adjust selectors based on website structure)\n",
        "    name_element = soup.find('h1', {'class': 'product-title'})\n",
        "    mrp_element = soup.find('span', {'class': 'mrp'})\n",
        "    discounted_price_element = soup.find('span', {'class': 'discounted-price'})\n",
        "    marketer_element = soup.find('div', {'class': 'marketer'})\n",
        "    salts_element = soup.find('div', {'class': 'salts'})\n",
        "\n",
        "    # Extract data (handle potential missing elements)\n",
        "    name = name_element.text.strip() if name_element else None\n",
        "    mrp = mrp_element.text.strip() if mrp_element else None\n",
        "    discounted_price = discounted_price_element.text.strip() if discounted_price_element else None\n",
        "    marketer = marketer_element.text.strip() if marketer_element else None\n",
        "    salts = salts_element.text.strip() if salts_element else None\n",
        "\n",
        "    return name, mrp, discounted_price, marketer, salts,url\n",
        "def scrape_netmeds_data(url):\n",
        "    # ... (implementation details as provided earlier)\n",
        "        response = requests.get(\"https://www.netmeds.com/prescriptions/mednocal-tablet-10s\")\n",
        "        response.raise_for_status()  # Raise an exception for non-200 status codes\n",
        "\n",
        "        soup = BeautifulSoup(response.content, 'html.parser')\n",
        "\n",
        "    # Find relevant elements (adjust selectors based on Netmeds website structure)\n",
        "        name_element = soup.find('h1', {'class': 'product-title'})  # Example selector\n",
        "        mrp_element = soup.find('span', {'class': 'mrp'})  # Example selector\n",
        "        discounted_price_element = soup.find('span', {'class': 'discounted-price'})  # Example selector\n",
        "        marketer_element = soup.find('div', {'class': 'marketer'})  # Example selector\n",
        "        salts_element = soup.find('div', {'class': 'salts'})  # Example selector\n",
        "\n",
        "    # Extract data (handle potential missing elements)\n",
        "        name = name_element.text.strip() if name_element else None\n",
        "        mrp = mrp_element.text.strip() if mrp_element else None\n",
        "        discounted_price = discounted_price_element.text.strip() if discounted_price_element else None\n",
        "        marketer = marketer_element.text.strip() if marketer_element else None\n",
        "        salts = salts_element.text.strip() if salts_element else None\n",
        "\n",
        "        return name, mrp, discounted_price, marketer, salts, url\n",
        "\n"
      ],
      "metadata": {
        "id": "4e9r0t4Pu-ok"
      },
      "execution_count": 61,
      "outputs": []
    },
    {
      "cell_type": "code",
      "source": [
        "pharmeasy_data = scrape_pharmeasy_data(\"https://pharmeasy.in/online-medicine-order/lactofol-cap-10-s-191885\")\n",
        "netmeds_data = scrape_netmeds_data(\"https://www.netmeds.com/prescriptions/mednocal-tablet-10s\")"
      ],
      "metadata": {
        "id": "ObaPZtg1vtvR"
      },
      "execution_count": 62,
      "outputs": []
    },
    {
      "cell_type": "code",
      "source": [
        "data = [pharmeasy_data, netmeds_data]  # Add more data as needed\n",
        "df = pd.DataFrame(data, columns=['name', 'mrp', 'discounted_price', 'marketer', 'salts', 'url'])\n",
        "df.to_csv(\"medicine_data.csv\", index=False)"
      ],
      "metadata": {
        "id": "PBR81IEHwB-r"
      },
      "execution_count": 63,
      "outputs": []
    }
  ]
}